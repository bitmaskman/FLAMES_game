{
 "cells": [
  {
   "cell_type": "markdown",
   "id": "a42e1463",
   "metadata": {},
   "source": [
    "# FLAMES"
   ]
  },
  {
   "cell_type": "code",
   "execution_count": null,
   "id": "e6917957",
   "metadata": {},
   "outputs": [],
   "source": [
    "# python code starts from here\n",
    "def string_intersection_length(str1, str2):\n",
    "    set1 = set(str1)\n",
    "    set2 = set(str2)\n",
    "    common_chars = set1.intersection(set2)\n",
    "    return len(common_chars)"
   ]
  },
  {
   "cell_type": "code",
   "execution_count": null,
   "id": "16744bc9",
   "metadata": {},
   "outputs": [],
   "source": [
    "first_name = input(\"Enter the first name: \")\n",
    "second_name = input(\"Enter the second name: \")\n",
    "\n",
    "val = len(first_name)+len(second_name)-2*string_intersection_length(first_name,second_name)"
   ]
  },
  {
   "cell_type": "code",
   "execution_count": null,
   "id": "afc3c26b",
   "metadata": {},
   "outputs": [],
   "source": [
    "fl=\"FLAMES\"\n",
    "i=0\n",
    "while len(fl) != 1:\n",
    "    i=(i+val-1)%len(fl)\n",
    "    fl=fl[:i] + fl[i + 1:]    "
   ]
  },
  {
   "cell_type": "code",
   "execution_count": null,
   "id": "ab2244b3",
   "metadata": {},
   "outputs": [],
   "source": [
    "if fl==\"F\":\n",
    "    print(\"Friends\")\n",
    "elif fl==\"L\":\n",
    "    print(\"Lovers\")\n",
    "elif fl==\"A\":\n",
    "    print(\"Affectionate\")\n",
    "elif fl==\"M\":\n",
    "    print(\"Marriage\")\n",
    "elif fl==\"E\":\n",
    "    print(\"Enemies\")\n",
    "else:\n",
    "    print(\"Siblings\")"
   ]
  }
 ],
 "metadata": {
  "kernelspec": {
   "display_name": "Python 3 (ipykernel)",
   "language": "python",
   "name": "python3"
  },
  "language_info": {
   "codemirror_mode": {
    "name": "ipython",
    "version": 3
   },
   "file_extension": ".py",
   "mimetype": "text/x-python",
   "name": "python",
   "nbconvert_exporter": "python",
   "pygments_lexer": "ipython3",
   "version": "3.9.12"
  }
 },
 "nbformat": 4,
 "nbformat_minor": 5
}
